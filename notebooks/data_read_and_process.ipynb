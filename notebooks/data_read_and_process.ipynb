{
 "cells": [
  {
   "cell_type": "markdown",
   "metadata": {},
   "source": [
    "# Music Generation with an LSTM Network\n",
    "\n",
    "## Data Source: Classical Music MIDI ([kaggle](https://www.kaggle.com/soumikrakshit/classical-music-midi))\n",
    "### I use only the Chopin MIDI files scraped from [here](http://www.piano-midi.de/chopin.htm)"
   ]
  },
  {
   "cell_type": "code",
   "execution_count": 1,
   "metadata": {},
   "outputs": [],
   "source": [
    "# Load functions from music21 (https://web.mit.edu/music21/doc/)to be used for parsing MIDI files\n",
    "from music21 import converter, instrument, note, chord, key, tempo, duration, stream\n",
    "\n",
    "import numpy as np\n",
    "import pandas as pd\n",
    "\n",
    "from os import listdir, path\n",
    "from sys import maxsize, getsizeof\n",
    "np.set_printoptions(threshold=maxsize)\n",
    "\n",
    "import matplotlib.pyplot as plt\n",
    "\n",
    "from sklearn.utils import shuffle\n",
    "from sklearn.model_selection import train_test_split"
   ]
  },
  {
   "cell_type": "markdown",
   "metadata": {},
   "source": [
    "## Data Preparation"
   ]
  },
  {
   "cell_type": "code",
   "execution_count": 2,
   "metadata": {},
   "outputs": [],
   "source": [
    "def read_midi(file, time_tol = 1.e-3):\n",
    "    \"\"\"This function reads a midi file for the notes, offsets, and durations for the piano relevant piano part.\n",
    "    The data needs to be further processed because there are many notes occurring at identical offsets (meaning \n",
    "    they start at the same time) but have different durations. For a more sequential representation, I convert \n",
    "    this data into a sequence in which there is no overlap, i.e. any time there is a change in the state of the \n",
    "    piano keyboard, a new element is created describing this state along with a duration for that state. This \n",
    "    format will be much easier to use for encoding the data into the LSTM network input later on. These \n",
    "    sequences, are  returned along with the musical keys (keys instead of key because there are key changes) \n",
    "    of the song (we need this because we will eventually transpose everything to the key of C.)\"\"\"\n",
    "    \n",
    "    print(\"Loading MIDI File:\", file)\n",
    "\n",
    "    midi = converter.parse(file)                    # will extract the parsed data with all\n",
    "    parts = instrument.partitionByInstrument(midi)  # separated into instructions for different instruments\n",
    "\n",
    "    for part in parts:\n",
    "        # There is one viable part per song, we'll return this one when we find it\n",
    "        notes_to_parse = part.recurse()\n",
    "        notes = []        # This list will form the values of notes_by_part\n",
    "        keys = []         # A list will contain the musical keys (one element per part)\n",
    "        \n",
    "        bpm = None        # Beats per minute, this changes a lot throughout the song.\n",
    "                          # I will use to scale durations\n",
    "                    \n",
    "        offset = 0        # the offset is the number (float value) of beats (AKA quarter notes)\n",
    "                          # into a song the notes we are currently reading in begin at.\n",
    "        last_offset = 0   # keeps track of the offset out to which we've alread written data from\n",
    "        \n",
    "        all_notes_ato = []  # All notes At This Offset (ATO). Tracks the notes that need to\n",
    "                            # be added in between two offsets\n",
    "\n",
    "        for element in notes_to_parse: \n",
    "\n",
    "            if (getattr(element, '__module__', None) == instrument.__name__):  \n",
    "                continue       # ignore the instrument type. Could enforce that it must\n",
    "                               # be piano type but one of the files is misclassed, but\n",
    "                               # still has the information of all the notes.\n",
    "            if (isinstance(element, note.Rest)):            # Ignore rests in the file, I will infer them \n",
    "                continue                                      # from the offsets and durations\n",
    "                    \n",
    "            if (isinstance(element, key.Key)):                \n",
    "                \n",
    "                if (keys):   # already a key instance has been found in this part. This is a key change.\n",
    "                             # I will later treat these occurrences as new songs in different keys.\n",
    "                    notes.append('key change')    # a marker for separation later\n",
    "                        \n",
    "                keys.append(str(element))          # Store the keys in order of appearance\n",
    "                \n",
    "            elif (isinstance(element, tempo.MetronomeMark)):  # Update bpm (the files are riddled with these)\n",
    "                bpm = element.number  \n",
    "                \n",
    "            else:\n",
    "                \n",
    "                if (bpm is None):\n",
    "                    print('bpm is None before first note or chord, skipping part')\n",
    "                    notes.clear()\n",
    "                    break          \n",
    "                    \n",
    "                if (element.offset == last_offset):   # We're still at this offset, so keep adding to all_notes_ato\n",
    "                    \n",
    "                    if (isinstance(element, note.Note)):     \n",
    "                        all_notes_ato.append((str(element.pitch), element.duration.quarterLength))\n",
    "                        \n",
    "                    elif (isinstance(element, chord.Chord)):\n",
    "                        all_notes_ato.append(('.'.join(str(n) for n in element.pitches), \\\n",
    "                                                           element.duration.quarterLength))                                   \n",
    "                else:    # a new offset, we need to write all the different piano states that\n",
    "                         # occurred in this offset interval, and add a rest if the offset interval\n",
    "                         # is longer than the durations of any of the notes or chords\n",
    "                    offset = element.offset    \n",
    "                    cur_offset = last_offset        \n",
    "                    \n",
    "                    if (all_notes_ato):   # We have notes to write at this offset\n",
    "                        \n",
    "                        all_notes_ato.sort(key = lambda x: x[1])   # sort by duration\n",
    "                        while(cur_offset < offset):  \n",
    "                            \n",
    "                            shortest_duration = all_notes_ato[0][1]\n",
    "                            if (shortest_duration < (offset - cur_offset)):    # write some intermediate\n",
    "                                                                               # lines, for those notes\n",
    "                                                                               # whose durations fall in\n",
    "                                                                               # this offset interval\n",
    "                                notes.append(('.'.join(n[0] for n in all_notes_ato), \\\n",
    "                                            all_notes_ato[0][1] * (60 / bpm)))    # convert to seconds\n",
    "                                cur_offset += shortest_duration\n",
    "                                \n",
    "                                # Now get rid of those notes we just wrote\n",
    "                                while(all_notes_ato and all_notes_ato[0][1] == shortest_duration):\n",
    "                                    all_notes_ato.pop(0)\n",
    "                                    \n",
    "                                if (not all_notes_ato):\n",
    "                                    # If there are no notes to write and there is still a gap between\n",
    "                                    # offset and cur_offset, add a rest to complete the interval\n",
    "                                    notes.append(('rest', (offset - cur_offset) * (60 / bpm)))\n",
    "                                    cur_offset = offset\n",
    "                                    break\n",
    "                                    \n",
    "                            elif (shortest_duration > ((offset - cur_offset) + time_tol)):  \n",
    "                                # All notes leftover should be transferred, but with \n",
    "                                # their durations shortened\n",
    "                                # Added tolerance because of rounding errors\n",
    "                                corrected = []\n",
    "                                for i in range(len(all_notes_ato)):\n",
    "                                    corrected.append((all_notes_ato[i][0], all_notes_ato[i][1] \\\n",
    "                                                    - (offset - cur_offset)))\n",
    "                                all_notes_ato = corrected\n",
    "                                cur_offset = offset\n",
    "                                \n",
    "                            else:  # they are equal (or close enough!)\n",
    "                                cur_offset = offset\n",
    "                                notes.append(('.'.join(n[0] for n in all_notes_ato), \\\n",
    "                                                all_notes_ato[0][1] * (60 / bpm)))   # convert to seconds\n",
    "                                all_notes_ato.clear()  # get ready for next offset interval\n",
    "                               \n",
    "                    # We still haven't read anything except for the offset, get the note or chord\n",
    "                    if (isinstance(element, note.Note)):\n",
    "                        all_notes_ato.append((str(element.pitch), element.duration.quarterLength))\n",
    "                    elif (isinstance(element, chord.Chord)):\n",
    "                        all_notes_ato.append(('.'.join(str(n) for n in element.pitches), \\\n",
    "                                                           element.duration.quarterLength))\n",
    "                    last_offset = element.offset\n",
    "\n",
    "        # In this dataset, there are just one viable part per song. So once we get create a notes array\n",
    "        # from it.\n",
    "        if (notes):\n",
    "            return keys, notes\n",
    "    \n",
    "    return -1   # failure to return correct a viable song\n"
   ]
  },
  {
   "cell_type": "code",
   "execution_count": 3,
   "metadata": {},
   "outputs": [
    {
     "name": "stdout",
     "output_type": "stream",
     "text": [
      "Loading MIDI File: ../chopin/chpn_op23.mid\n",
      "Loading MIDI File: ../chopin/chpn-p19.mid\n",
      "Loading MIDI File: ../chopin/chpn_op7_2.mid\n",
      "Loading MIDI File: ../chopin/chpn-p18.mid\n",
      "Loading MIDI File: ../chopin/chpn-p24.mid\n",
      "Loading MIDI File: ../chopin/chpn_op7_1.mid\n",
      "Loading MIDI File: ../chopin/chpn-p23.mid\n",
      "Loading MIDI File: ../chopin/chpn-p9.mid\n",
      "Loading MIDI File: ../chopin/chpn-p8.mid\n",
      "Loading MIDI File: ../chopin/chpn-p22.mid\n",
      "Loading MIDI File: ../chopin/chpn-p20.mid\n",
      "Loading MIDI File: ../chopin/chpn-p21.mid\n",
      "Loading MIDI File: ../chopin/chp_op18.mid\n",
      "Loading MIDI File: ../chopin/chpn_op35_4.mid\n",
      "Loading MIDI File: ../chopin/chpn_op33_2.mid\n",
      "Loading MIDI File: ../chopin/chp_op31.mid\n",
      "Loading MIDI File: ../chopin/chpn_op25_e4.mid\n",
      "Loading MIDI File: ../chopin/chpn_op25_e1.mid\n",
      "Loading MIDI File: ../chopin/chpn_op33_4.mid\n",
      "Loading MIDI File: ../chopin/chpn_op53.mid\n",
      "Loading MIDI File: ../chopin/chpn_op35_3.mid\n",
      "Loading MIDI File: ../chopin/chpn_op35_1.mid\n",
      "Loading MIDI File: ../chopin/chpn_op25_e2.mid\n",
      "Loading MIDI File: ../chopin/chpn_op25_e3.mid\n",
      "Loading MIDI File: ../chopin/chpn_op10_e12.mid\n",
      "Loading MIDI File: ../chopin/chpn_op10_e05.mid\n",
      "Loading MIDI File: ../chopin/chpn_op10_e01.mid\n",
      "Loading MIDI File: ../chopin/chpn_op66.mid\n",
      "Loading MIDI File: ../chopin/chpn-p10.mid\n",
      "Loading MIDI File: ../chopin/chpn_op25_e12.mid\n",
      "Loading MIDI File: ../chopin/chpn-p6.mid\n",
      "Loading MIDI File: ../chopin/chpn-p7.mid\n",
      "Loading MIDI File: ../chopin/chpn-p11.mid\n",
      "Loading MIDI File: ../chopin/chpn-p13.mid\n",
      "Loading MIDI File: ../chopin/chpn_op25_e11.mid\n",
      "Loading MIDI File: ../chopin/chpn-p5.mid\n",
      "Loading MIDI File: ../chopin/chpn-p4.mid\n",
      "Loading MIDI File: ../chopin/chpn-p12.mid\n",
      "Loading MIDI File: ../chopin/chpn-p16.mid\n",
      "Loading MIDI File: ../chopin/chpn_op27_2.mid\n",
      "Loading MIDI File: ../chopin/chpn-p1.mid\n",
      "Loading MIDI File: ../chopin/chpn-p17.mid\n",
      "Loading MIDI File: ../chopin/chpn-p15.mid\n",
      "Loading MIDI File: ../chopin/chpn-p3.mid\n",
      "Loading MIDI File: ../chopin/chpn_op27_1.mid\n",
      "Loading MIDI File: ../chopin/chpn-p2.mid\n",
      "Loading MIDI File: ../chopin/chpn-p14.mid\n"
     ]
    }
   ],
   "source": [
    "directory = '../chopin'\n",
    "keys = []\n",
    "songs = []\n",
    "for filename in listdir(directory):\n",
    "    if (filename == 'chpn_op35_2.mid'):   # skip this file. It has two separate parts\n",
    "        continue\n",
    "    file = path.join(directory, filename)\n",
    "    result = read_midi(file)\n",
    "    if (result == -1):                    # If any file read is unsuccessful, abort\n",
    "        print('result = -1')\n",
    "        break\n",
    "    keys.append(result[0])\n",
    "    songs.append(result[1])"
   ]
  },
  {
   "cell_type": "markdown",
   "metadata": {},
   "source": [
    "Every file was read successfully! Let's look at our data:"
   ]
  },
  {
   "cell_type": "code",
   "execution_count": 4,
   "metadata": {},
   "outputs": [
    {
     "name": "stdout",
     "output_type": "stream",
     "text": [
      "['C major', 'C major', 'A major', 'A major', 'C major', 'C major']\n"
     ]
    },
    {
     "data": {
      "text/plain": [
       "['key change',\n",
       " ('E5', 0.4166666666666667),\n",
       " ('F5', 0.3125),\n",
       " ('E5', 0.10416666666666667),\n",
       " ('D5.F4.D4.A3', 0.44776119402985076),\n",
       " ('F5.F4.D4.A3', 0.42105263157894735),\n",
       " ('F5.F4.C4.A3', 0.4316546762589928),\n",
       " ('E5.E4.C4.A3', 0.4225352112676056),\n",
       " ('D5', 0.1056338028169014),\n",
       " ('E5.D5', 0.07042253521126736)]"
      ]
     },
     "execution_count": 4,
     "metadata": {},
     "output_type": "execute_result"
    }
   ],
   "source": [
    "index = 2 # Using an example with actual key changes\n",
    "print(keys[index])\n",
    "songs[index][:10]"
   ]
  },
  {
   "cell_type": "markdown",
   "metadata": {},
   "source": [
    "You may notice that every key is repeated in the keys array. That will be alright as long as we ignore all key changes to the same key. We just need to loop through these note sequences to find the moments where the key actually changes, and use that to separate them."
   ]
  },
  {
   "cell_type": "code",
   "execution_count": 5,
   "metadata": {},
   "outputs": [],
   "source": [
    "def split_songs(keys, songs): \n",
    "    \"\"\"Split songs with key changes into separate 'songs'. The significance \n",
    "     of a 'song' hereafter is that it will define a sequence from which training \n",
    "     sequences will be drawn using a window function. The window function will \n",
    "     not cross boundaries between songs so that each training sequence is entirely \n",
    "     in one key (which will be transposed to C major)\"\"\"\n",
    "\n",
    "    keys_by_song = []    # list of strings representing the key, to be returned\n",
    "    notes_by_song = []   # list of list of tuples representing the note sequence,\n",
    "                         # to be returned.\n",
    "    for i in range(len(keys)):\n",
    "        new_keys, notes = keys[i], songs[i]\n",
    "        key_index = 0\n",
    "        new_notes = []            # keeps track of the note arrays in between\n",
    "                                  # each key change (and song end)\n",
    "        for note in notes:\n",
    "            \n",
    "            cur_key = new_keys[key_index]\n",
    "            if (note == 'key change'):\n",
    "                if (new_keys[key_index + 1] == cur_key):  # key change to same key,\n",
    "                    key_index += 1                        # ignore.\n",
    "                    continue\n",
    "                if (new_notes):                     # otherwise, save to *by_song arrays   \n",
    "                    notes_by_song.append(new_notes.copy())\n",
    "                    new_notes.clear()\n",
    "                    keys_by_song.append(cur_key)\n",
    "                key_index += 1                      \n",
    "            else:\n",
    "                new_notes.append(note)\n",
    "        if (new_notes):     # Because the sequences don't end in key changes,\n",
    "                            # we will likely have something leftover to save\n",
    "            notes_by_song.append(new_notes.copy())\n",
    "            keys_by_song.append(new_keys[key_index])\n",
    "    return keys_by_song, notes_by_song"
   ]
  },
  {
   "cell_type": "code",
   "execution_count": 6,
   "metadata": {},
   "outputs": [
    {
     "name": "stdout",
     "output_type": "stream",
     "text": [
      "[['B- major', 'B- major'], ['E- major', 'E- major'], ['C major', 'C major', 'A major', 'A major', 'C major', 'C major'], ['A- major', 'A- major'], ['F major', 'F major'], ['B- major', 'B- major'], ['F major', 'F major'], ['E major', 'E major', 'E major'], ['A major', 'A major', 'A major'], ['B- major', 'B- major'], ['E- major', 'E- major'], ['B- major', 'B- major'], ['E- major', 'E- major', 'D- major', 'D- major', 'E- major', 'E- major'], ['D- major', 'D- major'], ['D major', 'D major', 'B- major', 'B- major', 'D major', 'D major'], ['D- major', 'D- major', 'A major', 'A major', 'D- major', 'D- major', 'A major', 'A major', 'D- major', 'D- major'], ['C major', 'C major'], ['A- major', 'A- major', 'A- major'], ['D major', 'D major', 'B- major', 'B- major', 'D major', 'D major', 'B- major', 'B- major', 'B major', 'B major', 'D major', 'D major'], ['A- major', 'A- major', 'E major', 'E major', 'A- major', 'A- major'], ['D- major', 'D- major'], ['D- major', 'D- major', 'B- major', 'B- major'], ['A- major', 'A- major'], ['F major', 'F major', 'B major', 'B major', 'F major', 'F major'], ['E- major', 'E- major'], ['G- major', 'G- major'], ['C major', 'C major'], ['E major', 'E major', 'D- major', 'D- major', 'E major', 'E major'], ['E major', 'E major'], ['E- major', 'E- major'], ['D major', 'D major'], ['A major', 'A major'], ['B major', 'B major'], ['F# major', 'F# major'], ['C major', 'C major'], ['D major', 'D major'], ['G major', 'G major'], ['B major', 'B major'], ['D- major', 'D- major'], ['D- major', 'D- major'], ['C major', 'C major'], ['A- major', 'A- major'], ['D- major', 'D- major', 'E major', 'E major', 'D- major', 'D- major'], ['G major', 'G major'], ['E major', 'E major', 'A- major', 'A- major', 'E major', 'E major'], ['C major', 'C major'], ['G- major', 'G- major']]\n",
      "['B- major', 'E- major', 'C major', 'A major', 'C major', 'A- major', 'F major', 'B- major', 'F major', 'E major', 'A major', 'B- major', 'E- major', 'B- major', 'E- major', 'D- major', 'E- major', 'D- major', 'D major', 'B- major', 'D major', 'D- major', 'A major', 'D- major', 'A major', 'D- major', 'C major', 'A- major', 'D major', 'B- major', 'D major', 'B- major', 'B major', 'D major', 'A- major', 'E major', 'A- major', 'D- major', 'D- major', 'B- major', 'A- major', 'F major', 'B major', 'F major', 'E- major', 'G- major', 'C major', 'E major', 'D- major', 'E major', 'E major', 'E- major', 'D major', 'A major', 'B major', 'F# major', 'C major', 'D major', 'G major', 'B major', 'D- major', 'D- major', 'C major', 'A- major', 'D- major', 'E major', 'D- major', 'G major', 'E major', 'A- major', 'E major', 'C major', 'G- major']\n"
     ]
    }
   ],
   "source": [
    "keys_by_song, notes_by_song = split_songs(keys, songs)\n",
    "print(keys)\n",
    "print(keys_by_song)"
   ]
  },
  {
   "cell_type": "code",
   "execution_count": 7,
   "metadata": {},
   "outputs": [
    {
     "data": {
      "text/plain": [
       "47"
      ]
     },
     "execution_count": 7,
     "metadata": {},
     "output_type": "execute_result"
    }
   ],
   "source": [
    "len(keys)"
   ]
  },
  {
   "cell_type": "markdown",
   "metadata": {},
   "source": [
    "Comparing the outputs we can see that the songs with key changes successfully get split.\n",
    "Let's see how many 'songs' we have and veryify that the data is preserved."
   ]
  },
  {
   "cell_type": "code",
   "execution_count": 8,
   "metadata": {},
   "outputs": [
    {
     "name": "stdout",
     "output_type": "stream",
     "text": [
      "73\n"
     ]
    }
   ],
   "source": [
    "print(len(keys_by_song))"
   ]
  },
  {
   "cell_type": "markdown",
   "metadata": {},
   "source": [
    "Let's look at the data again to make sure it hasn't changed (aside from repartitioning the song boundaries)"
   ]
  },
  {
   "cell_type": "code",
   "execution_count": 9,
   "metadata": {},
   "outputs": [
    {
     "data": {
      "text/plain": [
       "[('E5', 0.4166666666666667),\n",
       " ('F5', 0.3125),\n",
       " ('E5', 0.10416666666666667),\n",
       " ('D5.F4.D4.A3', 0.44776119402985076),\n",
       " ('F5.F4.D4.A3', 0.42105263157894735),\n",
       " ('F5.F4.C4.A3', 0.4316546762589928),\n",
       " ('E5.E4.C4.A3', 0.4225352112676056),\n",
       " ('D5', 0.1056338028169014),\n",
       " ('E5.D5', 0.07042253521126736),\n",
       " ('C#5', 0.2158273381294964)]"
      ]
     },
     "execution_count": 9,
     "metadata": {},
     "output_type": "execute_result"
    }
   ],
   "source": [
    "notes_by_song[index][:10]"
   ]
  },
  {
   "cell_type": "markdown",
   "metadata": {},
   "source": [
    "Now let's define some functions which we will use to process the data further. The following  functions will allow us to transform the songs into sequences of vectors in which each vector has n_keys_piano binary elements (representing the on/off state of the key) and an n_keys_piano+1th element representing the duration in seconds (which we already have). This is the same approach for encoding the data as in [this paper](https://www.tandfonline.com/doi/full/10.1080/25765299.2019.1649972)"
   ]
  },
  {
   "cell_type": "code",
   "execution_count": 10,
   "metadata": {},
   "outputs": [],
   "source": [
    "def note_to_piano_idx(a_note):\n",
    "    \"\"\"Simply convert a note in the format {Letter}{Octave} to the 0-based index number of its corresponding\n",
    "    position on the piano\"\"\"\n",
    "    \n",
    "    rel_offset = {'C': 0, 'D': 2, 'E': 4, 'F': 5, 'G': 7, 'A': 9, 'B': 11}  # relative offsets from\n",
    "                                                                        # C in the right-dir\n",
    "    piano_offset = 3  # C1 is the 4th key on the piano (index of 3)\n",
    "\n",
    "    max_octave = 8    # Last key on the piano is C8\n",
    "    notes_in_octave = 12\n",
    "\n",
    "    a_note, octave = a_note[:-1], int(a_note[-1])\n",
    "    if (int(octave) > max_octave):\n",
    "        print(\"WARNING: octave = \", octave)\n",
    "        return np.array([])\n",
    "    if (len(a_note) > 1):  \n",
    "        if (a_note[1] == '-'): # a flat!\n",
    "            return piano_offset + rel_offset[a_note[0]] + notes_in_octave * (octave - 1) - 1\n",
    "        elif (a_note[1] == '#'): # a sharp!\n",
    "            return piano_offset + rel_offset[a_note[0]] + notes_in_octave * (octave - 1) + 1\n",
    "        else:\n",
    "            print(\"Waring: note = \", a_note)\n",
    "    return piano_offset + rel_offset[a_note[0]] + notes_in_octave * (octave - 1)"
   ]
  },
  {
   "cell_type": "code",
   "execution_count": 11,
   "metadata": {},
   "outputs": [],
   "source": [
    "n_keys_piano = 88\n",
    "\n",
    "def songs_to_sequences(songs, time_tol = 1.e-3):\n",
    "    \"\"\"Converts the sequences within songs to vector format (an 89 element NumPy Ndarray \n",
    "    where the last element is the normalized duration (in quarter notes), and the rest of \n",
    "    the elements are 1 for key on and 0 for key off.) If an augmentation_count is supplied, \n",
    "    create additional sequences transposed to augmentation_count different keys (determined\n",
    "    randomly).\"\"\"\n",
    "    sequences = []\n",
    "    indices = None\n",
    "    for song in songs:\n",
    "        sequence = []\n",
    "        durations = []\n",
    "        for element in song:\n",
    "            vector = np.zeros(n_keys_piano)  # The current boolean array with which keys\n",
    "                                             # are being pressed. Will add an additional\n",
    "                                             # 89th element for the duration (normalized\n",
    "                                             # to be the fraction of this notes duration\n",
    "                                             # to that of the longest in the file)\n",
    "            cur_note, duration = element  # separate note and duration (in seconds)\n",
    "            if (duration < time_tol):        # There are some rests with 0 duration, skip these\n",
    "                continue\n",
    "            if ('.' in cur_note): # chord\n",
    "                notes = cur_note.split('.')\n",
    "                for cur_note in notes:   \n",
    "                    vector[note_to_piano_idx(cur_note)] = 1  \n",
    "            elif (cur_note != 'rest'): # a note\n",
    "                vector[note_to_piano_idx(cur_note)] = 1\n",
    "            sequence.append(vector)\n",
    "            durations.append(float(duration))\n",
    "        sequence = np.array(sequence)\n",
    "        sequence = np.insert(sequence, len(sequence[0]), durations, axis = 1)\n",
    "        sequences.append(sequence)        \n",
    "                              \n",
    "    return np.array(sequences)"
   ]
  },
  {
   "cell_type": "code",
   "execution_count": 12,
   "metadata": {
    "scrolled": false
   },
   "outputs": [],
   "source": [
    "chopin_sequences = songs_to_sequences(notes_by_song)"
   ]
  },
  {
   "cell_type": "code",
   "execution_count": 13,
   "metadata": {},
   "outputs": [],
   "source": [
    "# Often times, songs finish with a rest.\n",
    "for i in range(len(chopin_sequences)):\n",
    "    while(sum(chopin_sequences[i][-1][:-1]) == 0):  # remove rests from the ends of song\n",
    "        chopin_sequences[i] = chopin_sequences[i][:-1]"
   ]
  },
  {
   "cell_type": "markdown",
   "metadata": {},
   "source": [
    "Now we would like to transpose the sequences to the key of C. C is an arbitrary choice, the point of doing this is to simplify the problem for the neural network. The idea is that, because certain piano keys are more likely to be played in different musical keys, transposing all the songs to one key reduces the variation in the dataset. We are also not losing too much  information because any musical phrase retains the same structure upon transposition. This also means that the final product can be transposed into any key the user wishes!"
   ]
  },
  {
   "cell_type": "code",
   "execution_count": 14,
   "metadata": {},
   "outputs": [],
   "source": [
    "def transpose_sequence(note_sequence, transposition):\n",
    "    \"\"\" Perform a right-shift on the keys' part of the vectors\n",
    "    Effectively, this outputs a new sequence repesenting a song \n",
    "    but transposed. The size of the shift is transposition\"\"\"\n",
    "    if (transposition == 0):\n",
    "        return note_sequence\n",
    "    transposed_note_sequence = []\n",
    "    for i in range(len(note_sequence)):\n",
    "        transposed_note_sequence.append(np.concatenate((note_sequence[i][-transposition:], \\\n",
    "                                        note_sequence[i][:-transposition])))\n",
    "    return transposed_note_sequence\n",
    "\n",
    "def transpose_sequences(sequences, keys_by_song):\n",
    "    \"\"\"Transpose (rightward) all sequences in sequences to the key of C major\"\"\"\n",
    "    right_offset = {'C': 0, 'D': 10, 'E': 8, 'F': 7, 'G': 5, 'A': 3, 'B': 1}  # relative offsets from\n",
    "                                                                            # C in the right-dir\n",
    "    transposed_sequences = [] \n",
    "    for i in range(len(sequences)):\n",
    "        notes, durations = sequences[i][:, :-1], sequences[i][:, -1]\n",
    "        song_key = keys_by_song[i].split()[0]\n",
    "        transposition = right_offset[song_key[0]]\n",
    "        if (len(song_key) > 1):\n",
    "            if (song_key[1] == '-'):\n",
    "                transposition += 1\n",
    "            elif (song_key[1] == '#'):\n",
    "                transposition -= 1\n",
    "            else:\n",
    "                print('Problem with song_key: ', song_key)\n",
    "                return\n",
    "        transposed_sequence = transpose_sequence(notes, transposition)\n",
    "        transposed_sequences.append(np.insert(transposed_sequence,\\\n",
    "                                    n_keys_piano, durations, axis = 1))   \n",
    "    return transposed_sequences"
   ]
  },
  {
   "cell_type": "markdown",
   "metadata": {},
   "source": [
    "Calculate and save to file transposed_chopin_sequences. The saved file will be read-in by ./scaled_prototype.ipynb. The dataset will be scaled by increasing the window_size parameter of the sequences_to_input function (which takes transposed_chopin_sequences as input)"
   ]
  },
  {
   "cell_type": "code",
   "execution_count": 30,
   "metadata": {},
   "outputs": [],
   "source": [
    "transposed_chopin_sequences = transpose_sequences(chopin_sequences, keys_by_song)\n",
    "np.save('../train_and_val/transposed_chopin_sequences', transposed_chopin_sequences)"
   ]
  },
  {
   "cell_type": "markdown",
   "metadata": {},
   "source": [
    "Let's have a graphical look at what effect the transposition had on the relative frequency of keys being played. We will make a plot similar to Figure 15 from [this paper](https://www.tandfonline.com/doi/full/10.1080/25765299.2019.1649972) except that we will have two versions ('Original' and 'Transposed'). For reasons which will become clear after the plot is made, I will first configure a legend to color code the different notes."
   ]
  },
  {
   "cell_type": "code",
   "execution_count": 16,
   "metadata": {},
   "outputs": [],
   "source": [
    "colors = ['b', 'g', 'r', 'c', 'm', 'y', 'k', 'tab:orange', 'tab:purple', 'tab:brown', 'tab:pink', 'tab:gray']\n",
    "all_notes = ['A', 'A#', 'B', 'C', 'C#', 'D', 'D#', 'E', 'F', 'F#', 'G', 'G#']\n",
    "import matplotlib.pyplot as plt\n",
    "handles = [plt.Rectangle((0, 0), 1, 1, color = colors[i]) for i in range(len(colors))]"
   ]
  },
  {
   "cell_type": "code",
   "execution_count": 17,
   "metadata": {},
   "outputs": [
    {
     "data": {
      "image/png": "[encoded data removed]",
      "text/plain": [
       "<Figure size 1152x576 with 2 Axes>"
      ]
     },
     "metadata": {
      "image/png": {
       "height": 494,
       "width": 953
      },
      "needs_background": "light"
     },
     "output_type": "display_data"
    }
   ],
   "source": [
    "original_piano_key_counts = np.zeros(n_keys_piano)\n",
    "transposed_piano_key_counts = np.zeros(n_keys_piano)\n",
    "for i in range(len(chopin_sequences)):\n",
    "    for j in range(len(chopin_sequences[i])):\n",
    "        original_piano_key_counts += chopin_sequences[i][j][:-1]  # leave off duration for this analysis\n",
    "        transposed_piano_key_counts += transposed_chopin_sequences[i][j][:-1]\n",
    "plt.figure(figsize = (16, 8))\n",
    "plt.subplot(121)\n",
    "plt.title('Original')\n",
    "plt.bar(list(range(n_keys_piano)), original_piano_key_counts, color = colors)\n",
    "plt.xlabel('Key Index')\n",
    "plt.ylabel('Counts')\n",
    "plt.legend(handles, all_notes)\n",
    "plt.subplot(122)\n",
    "plt.title('Transposed')\n",
    "plt.xlabel('Key Index')\n",
    "plt.ylabel('Counts')\n",
    "plt.bar(list(range(n_keys_piano)), transposed_piano_key_counts, color = colors)\n",
    "plt.legend(handles, all_notes)\n",
    "plt.savefig('../images/original_vs_transposed.png')"
   ]
  },
  {
   "cell_type": "markdown",
   "metadata": {},
   "source": [
    "Transposing the songs to the key of C has the stark effect of increasing the relative frequency of those notes that belong in the key of C, which, on a piano, is all the white keys (i.e. A, B, C, D, E, F, and G). This should simplify the problem that the neural network needs to solve. When we reach the music generation stage, one can transpose the resulting music into any key as we did here. Also note that the of the distribution has a rightward shift overall. This direction was chosen arbitrarily, and when we transpose generated musical sequences we will do so leftward so as not to increase this rightward shift further. Finally, note that the distribution is more extended than Figure 15 from [here](https://www.tandfonline.com/doi/full/10.1080/25765299.2019.1649972). This suggests that Chopin was more fond of the low and high ends of the keyboard than Bach."
   ]
  },
  {
   "cell_type": "markdown",
   "metadata": {},
   "source": [
    "Now would be a good time to convert some sequences back into MIDI format and listen to them\n",
    "We can make sure the timing is the same between the original and the new, and confirm that the transpose worked"
   ]
  },
  {
   "cell_type": "code",
   "execution_count": 18,
   "metadata": {},
   "outputs": [],
   "source": [
    "def convert_to_midi(sequence, output_file = 'music.mid'):\n",
    "    \"\"\"Save sequence as a midi file (with path = output_file). sequence can be\n",
    "    from the original dataset or a new sequence generated by a trained model\"\"\"\n",
    "    offset = 0\n",
    "    output_notes = [instrument.Piano(), tempo.MetronomeMark(number = 60)]\n",
    "    \n",
    "    all_notes = ['A', 'A#', 'B', 'C', 'C#', 'D', 'D#', 'E', 'F', 'F#', 'G', 'G#']\n",
    "    \n",
    "    # create note, chord, and rest objects\n",
    "    for vector in sequence:\n",
    "        converted_duration = duration.Duration()\n",
    "        converted_duration.quarterLength = vector[-1]     # conveted from seconds, assuming \n",
    "                                                          #  bpm = 60 (so beats are eqaul to seconds)\n",
    "        if (np.sum(vector[:-1]) > 1):  # chord\n",
    "            indices_in_chord = np.argsort(vector[:-1])[-int(np.sum(vector[:-1])):]\n",
    "            notes_in_chord = [all_notes[i % 12] + str((i // 12) + 1) for i in indices_in_chord]\n",
    "            notes = []\n",
    "            for cur_note in notes_in_chord:\n",
    "                new_note = note.Note(cur_note)\n",
    "                new_note.storedInstrument = instrument.Piano()\n",
    "                notes.append(new_note)\n",
    "            new_chord = chord.Chord(notes)\n",
    "            new_chord.offset = offset\n",
    "            new_chord.duration = converted_duration\n",
    "            output_notes.append(new_chord)\n",
    "            \n",
    "        elif (np.sum(vector[:-1]) == 1):   # note\n",
    "            index = np.argmax(vector[:-1])\n",
    "            new_note = all_notes[index % 12] + str((index // 12) + 1)\n",
    "            new_note = note.Note(new_note)\n",
    "            new_note.offset = offset\n",
    "            new_note.storedInstrument = instrument.Piano()\n",
    "            new_note.duration = converted_duration\n",
    "            output_notes.append(new_note)\n",
    "        \n",
    "        elif (np.sum(vector[:-1]) == 0):   # rest\n",
    "            new_rest = note.Rest()\n",
    "            new_rest.offset = offset\n",
    "            new_rest.duration = converted_duration\n",
    "            output_notes.append(new_rest)\n",
    "        offset += vector[-1]\n",
    "    midi_stream = stream.Stream(output_notes)\n",
    "    midi_stream.write('midi', fp = '../midi_output/' + output_file)"
   ]
  },
  {
   "cell_type": "code",
   "execution_count": 19,
   "metadata": {},
   "outputs": [],
   "source": [
    "index = 0\n",
    "convert_to_midi(chopin_sequences[index], 'music_{}.mid'.format(index))"
   ]
  },
  {
   "cell_type": "markdown",
   "metadata": {},
   "source": [
    "Indeed, this midi file is exactly the first few bars of the first imported song (but transposed to C).\n",
    "\n",
    "Now to apply a window function to get the data into the shape needed for LSTM input"
   ]
  },
  {
   "cell_type": "code",
   "execution_count": 20,
   "metadata": {},
   "outputs": [],
   "source": [
    "def sequences_to_inputs(sequences, window_size = 16):\n",
    "    \"\"\"Apply a window function of size window_size across the dataset to create X. The next \n",
    "    vector in the sequence is appended to y for each window. Return X, y.\"\"\"\n",
    "    \n",
    "    X = []\n",
    "    y = []\n",
    "    \n",
    "    for i in range(len(sequences)):\n",
    "        if (len(sequences[i]) < window_size + 1):\n",
    "            print(\"Skipping index \", i, \" because the song is too short. Try a shorter window_size to include it.\")\n",
    "            continue\n",
    "        for j in range(len(sequences[i]) - window_size):\n",
    "            X.append(sequences[i][j:j + window_size])\n",
    "            y.append(sequences[i][j + window_size])\n",
    "\n",
    "    return np.array(X), np.array(y)"
   ]
  },
  {
   "cell_type": "code",
   "execution_count": 21,
   "metadata": {},
   "outputs": [],
   "source": [
    "X, y = sequences_to_inputs(transposed_chopin_sequences)\n",
    "                           \n",
    "X, y = shuffle(X, y, random_state = 42)"
   ]
  },
  {
   "cell_type": "markdown",
   "metadata": {},
   "source": [
    "Since we will have a sigmoid function applied on the network output, we should have our duration (currently in seconds) in a range \\[0, 1\\]. We will scale this value by dividing by the maximum duration over the whole set."
   ]
  },
  {
   "cell_type": "code",
   "execution_count": 22,
   "metadata": {},
   "outputs": [
    {
     "name": "stdout",
     "output_type": "stream",
     "text": [
      "Maximum Duration = 6.545454545454545\n"
     ]
    }
   ],
   "source": [
    "maximum_duration = max(X[:, :, -1].max(), y[:, -1].max())\n",
    "print('Maximum Duration = {}'.format(maximum_duration))\n",
    "# Keep variable so one can multiply the durations by this after music generation\n",
    "# to convert back into seconds\n",
    "X[:, :, -1] /= maximum_duration\n",
    "y[:, -1] /= maximum_duration"
   ]
  },
  {
   "cell_type": "markdown",
   "metadata": {},
   "source": [
    "What are the dimensions and size of this dataset?"
   ]
  },
  {
   "cell_type": "code",
   "execution_count": 23,
   "metadata": {},
   "outputs": [
    {
     "data": {
      "text/plain": [
       "(36153, 89)"
      ]
     },
     "execution_count": 23,
     "metadata": {},
     "output_type": "execute_result"
    }
   ],
   "source": [
    "y.shape"
   ]
  },
  {
   "cell_type": "code",
   "execution_count": 24,
   "metadata": {},
   "outputs": [
    {
     "data": {
      "text/plain": [
       "(36153, 16, 89)"
      ]
     },
     "execution_count": 24,
     "metadata": {},
     "output_type": "execute_result"
    }
   ],
   "source": [
    "X.shape"
   ]
  },
  {
   "cell_type": "code",
   "execution_count": 25,
   "metadata": {},
   "outputs": [
    {
     "name": "stdout",
     "output_type": "stream",
     "text": [
      "Dataset size is 411.855104 MB\n"
     ]
    }
   ],
   "source": [
    "print('Dataset size is {} MB'.format(getsizeof(X) / 1000000))"
   ]
  },
  {
   "cell_type": "markdown",
   "metadata": {},
   "source": [
    "Now to split into train and validation sets (we have no test set since the goal is to generate music using inputs from the validation set)"
   ]
  },
  {
   "cell_type": "code",
   "execution_count": 26,
   "metadata": {},
   "outputs": [],
   "source": [
    "X_train, X_val, y_train, y_val = train_test_split(X, y, test_size = 0.3, random_state = 42)"
   ]
  },
  {
   "cell_type": "markdown",
   "metadata": {},
   "source": [
    "We now compute statistics for the duration data which will be used in ./model_training.ipynb to verify the loaded datsets have the same statistics"
   ]
  },
  {
   "cell_type": "code",
   "execution_count": 27,
   "metadata": {},
   "outputs": [
    {
     "name": "stdout",
     "output_type": "stream",
     "text": [
      "Maximum Scaled Duration for X_train: 0.860215053763441\n",
      "Maximum Scaled Duration for X_val: 0.5516975308641976\n",
      "Maximum Scaled Duration for y_train: 1.0\n",
      "Maximum Scaled Duration for y_val: 0.9166666666666667\n"
     ]
    }
   ],
   "source": [
    "print('Maximum Scaled Duration for X_train: {}'.format(X_train[:, :, -1].max()))\n",
    "print('Maximum Scaled Duration for X_val: {}'.format(X_val[:, :, -1].max()))\n",
    "print('Maximum Scaled Duration for y_train: {}'.format(y_train[:, -1].max()))\n",
    "print('Maximum Scaled Duration for y_val: {}'.format(y_val[:, -1].max()))"
   ]
  },
  {
   "cell_type": "code",
   "execution_count": 28,
   "metadata": {},
   "outputs": [
    {
     "name": "stdout",
     "output_type": "stream",
     "text": [
      "Train-Validation Ratio of the Mean of the Scaled Duration:  0.9898257021922111\n",
      "Train-Validation Ratio of the Stdv of the Scaled Duration:  0.9209054376139967\n"
     ]
    }
   ],
   "source": [
    "print('Train-Validation Ratio of the Mean of the Scaled Duration: ', y_train[:, -1].mean() / y_val[:, -1].mean())\n",
    "print('Train-Validation Ratio of the Stdv of the Scaled Duration: ', y_train[:, -1].std() / y_val[:, -1].std())"
   ]
  },
  {
   "cell_type": "code",
   "execution_count": 29,
   "metadata": {},
   "outputs": [],
   "source": [
    "np.save('../train_and_val/X_train', X_train)\n",
    "np.save('../train_and_val/X_val', X_val)\n",
    "np.save('../train_and_val/y_train', y_train)\n",
    "np.save('../train_and_val/y_val', y_val)"
   ]
  }
 ],
 "metadata": {
  "kernelspec": {
   "display_name": "Python 3",
   "language": "python",
   "name": "python3"
  },
  "language_info": {
   "codemirror_mode": {
    "name": "ipython",
    "version": 3
   },
   "file_extension": ".py",
   "mimetype": "text/x-python",
   "name": "python",
   "nbconvert_exporter": "python",
   "pygments_lexer": "ipython3",
   "version": "3.7.6"
  }
 },
 "nbformat": 4,
 "nbformat_minor": 4
}
